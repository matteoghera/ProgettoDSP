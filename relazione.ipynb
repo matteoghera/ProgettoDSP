{
 "cells": [
  {
   "cell_type": "markdown",
   "metadata": {},
   "source": [
    "# Progetto di ***Data Security and Privacy***"
   ]
  },
  {
   "cell_type": "markdown",
   "metadata": {},
   "source": [
    "**Matteo Ghera** - matteo.ghera@stud.unifi.it"
   ]
  },
  {
   "cell_type": "markdown",
   "metadata": {},
   "source": [
    "L'obiettivo di questo progetto è sviluppare un simulatore della macchina Enigma usata dalle truppe tedesche durante la Seconda Guerra Mondiale. Sotto riportiamo una breve descrizione tratta da [1]"
   ]
  },
  {
   "cell_type": "code",
   "execution_count": 1,
   "metadata": {},
   "outputs": [],
   "source": [
    "#uso queste librerie per visualizzare le immagini\n",
    "\n",
    "from IPython.display import Image\n",
    "from functools import lru_cache"
   ]
  },
  {
   "cell_type": "markdown",
   "metadata": {},
   "source": [
    "## Introduzione"
   ]
  },
  {
   "cell_type": "markdown",
   "metadata": {},
   "source": [
    "Sotto è riportato lo schema contenente gli elementi elettromeccanici essenziali della macchina Enigma, tratto da [1]."
   ]
  },
  {
   "cell_type": "code",
   "execution_count": 2,
   "metadata": {},
   "outputs": [
    {
     "data": {
      "text/html": [
       "<img src=\"img/struttura_enigma.PNG\"/>"
      ],
      "text/plain": [
       "<IPython.core.display.Image object>"
      ]
     },
     "execution_count": 2,
     "metadata": {},
     "output_type": "execute_result"
    }
   ],
   "source": [
    "Image(url='img/struttura_enigma.PNG')"
   ]
  },
  {
   "cell_type": "markdown",
   "metadata": {},
   "source": [
    "Gli elementi elettromeccanici essenziali sono i seguenti:"
   ]
  },
  {
   "cell_type": "markdown",
   "metadata": {},
   "source": [
    "- una *tastiera* che viene usata per inserire il testo cifrato o in chiaro;\n",
    "- una *plugboard* che realizza uno scambio tra alcune coppie di lettere (tipicamente 10) attraverso una serie di connessioni. Ad esempio $Q \\to S$ e $S \\to Q$;\n",
    "- tre *rotori* connessi a cascata. Ciascun rotore implementa una fissata permutazione tratta da un set di possibili permutazioni. Un rotore può essere fatto avanzare, rispetto ad una determinata posizione, di un numero di posizioni minore di 26. Più precisamente, il primo rotore (quello più a destra) avanza circolarmente di una posizione ad ogni lettera, il secondo rotore (rotore centrale) avanza di una posizione ogni 26 lettere mentre il terzo avanza di una posizioni ogni $26^2$ lettere;\n",
    "- un *riflettore* che realizza uno scambio fissato tra 13 coppie di lettere (quindi ogni lettera uno scambio);\n",
    "- una *lampboard* sulla quale viene visualizzato l'output (ciphertext o plaintext ottenuti), una lettera alla volta."
   ]
  },
  {
   "cell_type": "markdown",
   "metadata": {},
   "source": [
    "Come descritto in [2]. Supponiamo di aver fissato le permutazioni dei tre rotori. E\\' possibile rappresentare la configurazione dei tre rotori in una tabella nel seguente modo: "
   ]
  },
  {
   "cell_type": "code",
   "execution_count": 3,
   "metadata": {},
   "outputs": [
    {
     "data": {
      "text/html": [
       "<img src=\"img/Enigma.png\"/>"
      ],
      "text/plain": [
       "<IPython.core.display.Image object>"
      ]
     },
     "execution_count": 3,
     "metadata": {},
     "output_type": "execute_result"
    }
   ],
   "source": [
    "Image(url='img/Enigma.png')"
   ]
  },
  {
   "cell_type": "markdown",
   "metadata": {},
   "source": [
    "Per ciascuna componente la lista di destra rappresenta la traformazione eseguita dal rotore mentre la lista di sinistra indica il circuito di uscita. Supponiamo quindi di premere il tasto K sulla tastiera. Nella configurazione corrente la tensione attraversando il circuito arriverà alla lettera O del rotore destro; qui attraverserà la connessione che la collega alla lettera O sul lato opposto per proseguire quindi verso la lettera A del rotore. Il procedimento è analogo fino a quando non si raggiuge il rotore. Il rotore riceverà la corrente attraverso il circuito relativo alla lettera F e seguendo il collegamento sul lato opposto raggiungerà il rotore sinistro alla lettera K. Il procedimento si ripete a ritroso. Sul lampboard si illuminerà la lettera U. La tabella sottostante raffigura il procedimento illustrato.    "
   ]
  },
  {
   "cell_type": "code",
   "execution_count": 4,
   "metadata": {},
   "outputs": [
    {
     "data": {
      "text/html": [
       "<img src=\"img/Enigma2.png\"/>"
      ],
      "text/plain": [
       "<IPython.core.display.Image object>"
      ]
     },
     "execution_count": 4,
     "metadata": {},
     "output_type": "execute_result"
    }
   ],
   "source": [
    "Image(url='img/Enigma2.png')"
   ]
  },
  {
   "cell_type": "markdown",
   "metadata": {},
   "source": [
    "## Descrizione implementazione"
   ]
  },
  {
   "cell_type": "markdown",
   "metadata": {},
   "source": [
    "Utilizzando l'osservazione precedente ho provveduto ad implementare la classe Python *EnigmaRotor* che descrive il comportamento di un generico rotore. Il costruttore di tale classe riceve in ingresso le due liste chiamate *Entrata* e *Uscita* che rappresentano la permutazione scelta per il rotore, il rotore successivo (quello a cui sarà inviato il segnale di rotazione una volta completato il giro) e due flag che indicano rispettivamente se il rotore corrente ha un successivo e se è ruotabile. Il metodo *impostaPosizione* imposta la configurazione iniziale del rotore. Data la posizione nel vettore *Entrata*, il metodo *posizioneSinistra* cerca la lettera corrispondente nel vettore *Uscita* e restituisce la sua posizione; per cercare la posizione nel vettore *Entrata* relativa alla lettera del vettore *Uscita* con posizione data si usa il metodo *posizioneDestra*. Qualore fosse consentito, il metodo *muovi* muove il rotore dato di una posizione (verso l'alto), invia un segnale al vettore successivo se esiste."
   ]
  },
  {
   "cell_type": "markdown",
   "metadata": {},
   "source": [
    "## Riferimenti"
   ]
  },
  {
   "cell_type": "markdown",
   "metadata": {},
   "source": [
    "[1] Davide Salamon, *Data Privacy and Security*, Springer, 2003  \n",
    "\n",
    "[2] http://www.crittologia.eu/"
   ]
  }
 ],
 "metadata": {
  "kernelspec": {
   "display_name": "Python 3",
   "language": "python",
   "name": "python3"
  },
  "language_info": {
   "codemirror_mode": {
    "name": "ipython",
    "version": 3
   },
   "file_extension": ".py",
   "mimetype": "text/x-python",
   "name": "python",
   "nbconvert_exporter": "python",
   "pygments_lexer": "ipython3",
   "version": "3.7.0"
  }
 },
 "nbformat": 4,
 "nbformat_minor": 2
}
